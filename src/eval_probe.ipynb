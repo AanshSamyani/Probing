{
 "cells": [
  {
   "cell_type": "code",
   "execution_count": 1,
   "id": "b66bf875",
   "metadata": {},
   "outputs": [
    {
     "name": "stderr",
     "output_type": "stream",
     "text": [
      "/nlsasfs/home/isea/isea10/anaconda3/envs/intenv/lib/python3.10/site-packages/tqdm/auto.py:21: TqdmWarning: IProgress not found. Please update jupyter and ipywidgets. See https://ipywidgets.readthedocs.io/en/stable/user_install.html\n",
      "  from .autonotebook import tqdm as notebook_tqdm\n"
     ]
    }
   ],
   "source": [
    "import os\n",
    "from probe import LinearProbe"
   ]
  },
  {
   "cell_type": "code",
   "execution_count": 2,
   "id": "22a11421",
   "metadata": {},
   "outputs": [],
   "source": [
    "save_dir = \"/nlsasfs/home/isea/isea10/aansh/deception_probes/weights/Llama-3.1-8B-Instruct/InstructionPairs/Standard/layer_12\"\n",
    "probe, metadata = LinearProbe.load_probe(\n",
    "    weight_path=os.path.join(save_dir, \"linear_probe.pt\"),\n",
    "    metadata_path=os.path.join(save_dir, \"probe_metadata.json\"),\n",
    "    device=\"cuda\",\n",
    ")"
   ]
  },
  {
   "cell_type": "code",
   "execution_count": 3,
   "id": "e7d5a250",
   "metadata": {},
   "outputs": [
    {
     "name": "stderr",
     "output_type": "stream",
     "text": [
      "Loading checkpoint shards: 100%|██████████| 4/4 [02:50<00:00, 42.66s/it]\n"
     ]
    },
    {
     "name": "stdout",
     "output_type": "stream",
     "text": [
      "{'preds': [1, 0, 1, 0, 1, 0, 0, 0, 0, 1, 0, 0, 0, 0]}\n"
     ]
    }
   ],
   "source": [
    "prompts = [\n",
    "    \"The capital of France is Paris.\",  ## T\n",
    "    \"The capital of France is Italy.\",  ## F\n",
    "    \"The capital of Germany is Berlin.\", ## T\n",
    "    \"The capital of Germany is India.\", ## F\n",
    "    \"The capital of Italy is Rome.\", ## T\n",
    "    \"The capital of Italy is Naples.\", ## F\n",
    "    \"The capital of France is Paris. The capital of France is Italy.\", ## T F\n",
    "    \"The capital of France is Italy. The capital of France is Paris.\", ## F T\n",
    "    \"The capital of France is Pairs.\", ## F (typo)\n",
    "    \"The capital of France is Paris. The capital of Germany is Berlin. The capital of Italy is Naples.\", ## T T F\n",
    "    \"The capital of France is Paris. The capital of Germany is India. The capital of Italy is Rome.\", ## T F T\n",
    "    \"The capital of France is Washington. The capital of Germany is Berlin. The capital of Italy is Rome.\", ## F T T\n",
    "    \"The capital of France is Paris. The capital of Germany is India. The capital of Italy is Naples.\", ## T F F\n",
    "    \"The capital of France is Washington. The capital of Germany is India. The capital of Italy is Rome.\"  ## F T F\n",
    "]\n",
    "\n",
    "out = LinearProbe.evaluate_probe(\n",
    "    probe, \n",
    "    layer = metadata[\"layer\"], \n",
    "    reduction = metadata[\"reduction\"], \n",
    "    device = \"cuda\", \n",
    "    model_name = \"/nlsasfs/home/isea/isea10/aansh/deception_probes/models/Llama-3.1-8B-Instruct\", \n",
    "    prompts = prompts\n",
    ")\n",
    "\n",
    "print(out)"
   ]
  },
  {
   "cell_type": "code",
   "execution_count": null,
   "id": "5ca5614e",
   "metadata": {},
   "outputs": [],
   "source": []
  }
 ],
 "metadata": {
  "kernelspec": {
   "display_name": "intenv",
   "language": "python",
   "name": "python3"
  },
  "language_info": {
   "codemirror_mode": {
    "name": "ipython",
    "version": 3
   },
   "file_extension": ".py",
   "mimetype": "text/x-python",
   "name": "python",
   "nbconvert_exporter": "python",
   "pygments_lexer": "ipython3",
   "version": "3.10.18"
  }
 },
 "nbformat": 4,
 "nbformat_minor": 5
}
